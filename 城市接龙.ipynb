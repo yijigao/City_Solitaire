{
 "cells": [
  {
   "cell_type": "markdown",
   "metadata": {},
   "source": [
    "## 城市获取\n",
    "### 来源：百度百科，地级市(不包含直辖市)"
   ]
  },
  {
   "cell_type": "code",
   "execution_count": 1,
   "metadata": {
    "collapsed": true
   },
   "outputs": [],
   "source": [
    "# 导入必要的包\n",
    "import requests\n",
    "from lxml import etree\n",
    "from bs4 import BeautifulSoup"
   ]
  },
  {
   "cell_type": "code",
   "execution_count": 2,
   "metadata": {
    "collapsed": true
   },
   "outputs": [],
   "source": [
    "# 发送请求，获取响应\n",
    "headers = {\n",
    "    \"Accept\": \"text/html,application/xhtml+xml,application/xml;q=0.9,image/webp,image/apng,*/*;q=0.8\",\n",
    "    \"Accept-Encoding\": \"gzip, deflate, br\",\n",
    "    \"Accept-Language\": \"zh,zh-CN;q=0.9,ja;q=0.8,en-GB;q=0.7,en;q=0.6,en-US;q=0.5\",\n",
    "    \"DNT\": \"1\",\n",
    "    \"Host\": \"baike.baidu.com\",\n",
    "    \"Referer\": \"https://baike.baidu.com/item/%E5%8E%BF/34322\",\n",
    "    \"Upgrade-Insecure-Requests\": \"1\",\n",
    "    \"User-Agent\": \"Mozilla/5.0 (Windows NT 10.0; Win64; x64) AppleWebKit/537.36 (KHTML, like Gecko) Chrome/65.0.3325.181 Safari/537.36\"   \n",
    "}\n",
    "\n",
    "def get_html(url):\n",
    "    try:\n",
    "        r = requests.get(url, timeout=30, headers=headers)\n",
    "        r.raise_for_status()\n",
    "        r.encoding = 'utf-8'\n",
    "        return r.text\n",
    "    except:\n",
    "        print(\"错误! requests code\", requests.status_codes)"
   ]
  },
  {
   "cell_type": "code",
   "execution_count": 3,
   "metadata": {
    "collapsed": true
   },
   "outputs": [],
   "source": [
    "# 解析页面\n",
    "html = get_html(\"https://baike.baidu.com/item/%E5%9C%B0%E7%BA%A7%E5%B8%82\")"
   ]
  },
  {
   "cell_type": "code",
   "execution_count": 4,
   "metadata": {
    "collapsed": true
   },
   "outputs": [],
   "source": [
    "# 使用Xpath 获取地级市字段\n",
    "selector = etree.HTML(html)\n",
    "city = selector.xpath(\"*//tr/td/div/a/text()\")"
   ]
  },
  {
   "cell_type": "code",
   "execution_count": 5,
   "metadata": {
    "collapsed": true
   },
   "outputs": [],
   "source": [
    "# 删除空字段以及字段后面的【市】字\n",
    "city = [i.replace(\"市\", \"\").strip() for i in city if i != \"市\"]"
   ]
  },
  {
   "cell_type": "code",
   "execution_count": 6,
   "metadata": {
    "collapsed": true
   },
   "outputs": [],
   "source": [
    "# 将city写入txt\n",
    "with open(\"city.txt\", \"w\") as f:\n",
    "    for i in city:\n",
    "        f.write(\"{}\\n\".format(i))\n",
    "    f.close()"
   ]
  },
  {
   "cell_type": "markdown",
   "metadata": {
    "collapsed": true
   },
   "source": [
    "## 城市接龙\n"
   ]
  },
  {
   "cell_type": "markdown",
   "metadata": {},
   "source": [
    "###  考虑谐音，需要涉及拼音\n",
    "参考： https://zhuanlan.zhihu.com/p/26726297\n"
   ]
  },
  {
   "cell_type": "code",
   "execution_count": 1,
   "metadata": {
    "collapsed": true
   },
   "outputs": [],
   "source": [
    "def chinese_to_pinyin(x):\n",
    "    # 汉字转拼音\n",
    "    y = ''\n",
    "    dic = {}\n",
    "    with open(\"unicode_pinyin.txt\") as f:\n",
    "        for i in f.readlines():\n",
    "            dic[i.split()[0]] = i.split()[1]\n",
    "    for i in x:\n",
    "        i = str(i.encode('unicode_escape'))[-5:-1].upper()\n",
    "        try:\n",
    "            y += dic[i] + ' '\n",
    "        except:\n",
    "            y += 'XXXX ' #非法字符用XXXX代替\n",
    "    return y"
   ]
  },
  {
   "cell_type": "code",
   "execution_count": 2,
   "metadata": {
    "collapsed": true
   },
   "outputs": [],
   "source": [
    "def city_exists(x):\n",
    "    # 判断输入的城市是否在库中\n",
    "    with open('city.txt','r') as f:\n",
    "        for i in set(f.readlines()):\n",
    "            if x == i.strip():\n",
    "                return True\n",
    "        return False"
   ]
  },
  {
   "cell_type": "code",
   "execution_count": 4,
   "metadata": {
    "collapsed": true
   },
   "outputs": [],
   "source": [
    "# 匹配接龙，返回城市\n",
    "def city_select(x, mode):\n",
    "    with open('city.txt','r') as f:\n",
    "        pinyin = chinese_to_pinyin(x[-1])\n",
    "        base = f.readlines()\n",
    "        for i in base:\n",
    "            # 完全匹配模式\n",
    "            if mode == 0 and i[0] == x[-1]:\n",
    "                return i\n",
    "            # 拼音匹配模式\n",
    "            if mode == 1 and chinese_to_pinyin(i[0])[:-2] == pinyin[:-2]:\n",
    "                return i\n",
    "        return None"
   ]
  },
  {
   "cell_type": "code",
   "execution_count": 16,
   "metadata": {
    "collapsed": true
   },
   "outputs": [],
   "source": [
    "def city(mode = 0):\n",
    "    mem = []\n",
    "    while True:\n",
    "        count = 0\n",
    "        p = input(\"请输入城市:\")\n",
    "        if p.strip() == '':\n",
    "            print(\"无效城市名，重新输入\")\n",
    "        if city_exists(p) == False:\n",
    "            print(\"该城市不存在\")\n",
    "            return 0\n",
    "        while True:\n",
    "            t = city_select(p, mode)\n",
    "            if t != None and (t not in mem):\n",
    "                count += 1\n",
    "                mem.append(t)\n",
    "                print(t)\n",
    "            else:\n",
    "                print(\"匹配完成，找到{}个!\\n 输入空格结束程序\".format(count))\n",
    "                break"
   ]
  },
  {
   "cell_type": "code",
   "execution_count": 21,
   "metadata": {
    "scrolled": false
   },
   "outputs": [
    {
     "name": "stdout",
     "output_type": "stream",
     "text": [
      "请输入城市:深圳\n",
      "镇江\n",
      "\n",
      "匹配完成，找到1个!\n",
      " 输入空格结束程序\n",
      "请输入城市:1\n",
      "该城市不存在\n"
     ]
    },
    {
     "data": {
      "text/plain": [
       "0"
      ]
     },
     "execution_count": 21,
     "metadata": {},
     "output_type": "execute_result"
    }
   ],
   "source": [
    "city(mode=1)"
   ]
  }
 ],
 "metadata": {
  "kernelspec": {
   "display_name": "Python 3",
   "language": "python",
   "name": "python3"
  },
  "language_info": {
   "codemirror_mode": {
    "name": "ipython",
    "version": 3
   },
   "file_extension": ".py",
   "mimetype": "text/x-python",
   "name": "python",
   "nbconvert_exporter": "python",
   "pygments_lexer": "ipython3",
   "version": "3.6.3"
  }
 },
 "nbformat": 4,
 "nbformat_minor": 2
}
